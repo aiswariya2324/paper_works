{
  "nbformat": 4,
  "nbformat_minor": 0,
  "metadata": {
    "colab": {
      "provenance": []
    },
    "kernelspec": {
      "name": "python3",
      "display_name": "Python 3"
    },
    "language_info": {
      "name": "python"
    }
  },
  "cells": [
    {
      "cell_type": "code",
      "execution_count": 1,
      "metadata": {
        "id": "TyQj5DOq6zLI"
      },
      "outputs": [],
      "source": [
        "import numpy as np\n",
        "import pandas as pd\n",
        "from sklearn.model_selection import train_test_split\n",
        "from sklearn.preprocessing import StandardScaler\n",
        "from keras.models import Sequential\n",
        "from keras.layers import Dense\n",
        "from imblearn.under_sampling import RandomUnderSampler\n",
        "from sklearn.metrics import accuracy_score, precision_score, recall_score, f1_score"
      ]
    },
    {
      "cell_type": "code",
      "source": [
        "from google.colab import drive\n",
        "drive.mount('/content/drive')"
      ],
      "metadata": {
        "colab": {
          "base_uri": "https://localhost:8080/"
        },
        "id": "JRU55mXK7Wr7",
        "outputId": "421926df-3331-447a-e98e-a2d8dca6420e"
      },
      "execution_count": 2,
      "outputs": [
        {
          "output_type": "stream",
          "name": "stdout",
          "text": [
            "Mounted at /content/drive\n"
          ]
        }
      ]
    },
    {
      "cell_type": "code",
      "source": [
        "df=pd.read_csv('/content/csv_result-cm1.csv')"
      ],
      "metadata": {
        "id": "Vcfarkbt7f8q"
      },
      "execution_count": 3,
      "outputs": []
    },
    {
      "cell_type": "code",
      "source": [
        "X = df.iloc[:, :-1]\n",
        "y = df.iloc[:, -1]"
      ],
      "metadata": {
        "id": "WMWsfvgE7r0u"
      },
      "execution_count": 4,
      "outputs": []
    },
    {
      "cell_type": "code",
      "source": [
        "X_train, X_test, y_train, y_test = train_test_split(X, y, test_size=0.3, random_state=42)"
      ],
      "metadata": {
        "id": "u_jKHbcM7uWy"
      },
      "execution_count": 5,
      "outputs": []
    },
    {
      "cell_type": "code",
      "source": [
        "scaler = StandardScaler()\n",
        "X_train = scaler.fit_transform(X_train)\n",
        "X_test = scaler.transform(X_test)"
      ],
      "metadata": {
        "id": "JOpzG6s_7JKR"
      },
      "execution_count": 6,
      "outputs": []
    },
    {
      "cell_type": "code",
      "source": [
        "rus = RandomUnderSampler(sampling_strategy=0.5, random_state=42)\n",
        "X_resampled, y_resampled = rus.fit_resample(X_train, y_train)\n"
      ],
      "metadata": {
        "id": "oBI5g3bq7JGt"
      },
      "execution_count": 7,
      "outputs": []
    },
    {
      "cell_type": "code",
      "source": [
        "model = Sequential()\n",
        "model.add(Dense(64, input_dim=X_resampled.shape[1], activation='relu'))\n",
        "model.add(Dense(32, activation='relu'))\n",
        "model.add(Dense(1, activation='sigmoid'))"
      ],
      "metadata": {
        "id": "sm3jkWzO7JD5"
      },
      "execution_count": 8,
      "outputs": []
    },
    {
      "cell_type": "code",
      "source": [
        "def focal_loss(gamma=2., alpha=0.25):\n",
        "    def focal_loss_fixed(y_true, y_pred):\n",
        "        pt_1 = tf.where(tf.equal(y_true, 1), y_pred, tf.ones_like(y_pred))\n",
        "        pt_0 = tf.where(tf.equal(y_true, 0), y_pred, tf.zeros_like(y_pred))\n",
        "        return -K.mean(alpha * K.pow(1. - pt_1, gamma) * K.log(pt_1)) - K.mean((1 - alpha) * K.pow(pt_0, gamma) * K.log(1. - pt_0))\n",
        "    return focal_loss_fixed"
      ],
      "metadata": {
        "id": "ssiMTTLz9K32"
      },
      "execution_count": 10,
      "outputs": []
    },
    {
      "cell_type": "code",
      "source": [
        "import numpy as np\n",
        "import pandas as pd\n",
        "from sklearn.datasets import make_classification\n",
        "from sklearn.model_selection import train_test_split\n",
        "from sklearn.metrics import accuracy_score\n",
        "from keras.models import Sequential\n",
        "from keras.layers import Dense\n",
        "from keras.optimizers import Adam\n",
        "from keras.losses import binary_crossentropy\n",
        "import tensorflow as tf\n",
        "from imblearn.over_sampling import SMOTE\n",
        "from keras import backend as K"
      ],
      "metadata": {
        "id": "DvPZ36H39e8g"
      },
      "execution_count": 14,
      "outputs": []
    },
    {
      "cell_type": "code",
      "source": [
        "smote = SMOTE(sampling_strategy='auto', random_state=42)\n",
        "X_train_resampled, y_train_resampled = smote.fit_resample(X_train, y_train)"
      ],
      "metadata": {
        "id": "qqFoZvnM9azK"
      },
      "execution_count": 15,
      "outputs": []
    },
    {
      "cell_type": "code",
      "source": [
        "model = Sequential()\n",
        "model.add(Dense(64, input_dim=X_train_resampled.shape[1], activation='relu'))\n",
        "model.add(Dense(1, activation='sigmoid'))"
      ],
      "metadata": {
        "id": "8QQgm9Nf9QNc"
      },
      "execution_count": 16,
      "outputs": []
    },
    {
      "cell_type": "code",
      "source": [
        "model.compile(loss=focal_loss(), optimizer=Adam(learning_rate=0.001), metrics=['accuracy'])"
      ],
      "metadata": {
        "id": "ISnCki397JBS"
      },
      "execution_count": 20,
      "outputs": []
    },
    {
      "cell_type": "code",
      "source": [
        "model.fit(X_train_resampled, y_train_resampled, epochs=10, batch_size=32, validation_split=0.1, verbose=2)"
      ],
      "metadata": {
        "colab": {
          "base_uri": "https://localhost:8080/"
        },
        "id": "UhWzKf2V9S6J",
        "outputId": "fcc5c1d6-96ba-4dbd-c6d1-422a47f2650a"
      },
      "execution_count": 21,
      "outputs": [
        {
          "output_type": "stream",
          "name": "stdout",
          "text": [
            "Epoch 1/10\n",
            "18/18 - 1s - loss: 0.0699 - accuracy: 0.7725 - val_loss: 0.0415 - val_accuracy: 0.6825 - 1s/epoch - 68ms/step\n",
            "Epoch 2/10\n",
            "18/18 - 0s - loss: 0.0466 - accuracy: 0.8078 - val_loss: 0.0384 - val_accuracy: 0.7460 - 61ms/epoch - 3ms/step\n",
            "Epoch 3/10\n",
            "18/18 - 0s - loss: 0.0375 - accuracy: 0.8360 - val_loss: 0.0306 - val_accuracy: 0.7778 - 58ms/epoch - 3ms/step\n",
            "Epoch 4/10\n",
            "18/18 - 0s - loss: 0.0318 - accuracy: 0.8765 - val_loss: 0.0260 - val_accuracy: 0.8254 - 75ms/epoch - 4ms/step\n",
            "Epoch 5/10\n",
            "18/18 - 0s - loss: 0.0279 - accuracy: 0.8907 - val_loss: 0.0230 - val_accuracy: 0.8254 - 58ms/epoch - 3ms/step\n",
            "Epoch 6/10\n",
            "18/18 - 0s - loss: 0.0248 - accuracy: 0.9101 - val_loss: 0.0219 - val_accuracy: 0.8254 - 76ms/epoch - 4ms/step\n",
            "Epoch 7/10\n",
            "18/18 - 0s - loss: 0.0225 - accuracy: 0.9171 - val_loss: 0.0184 - val_accuracy: 0.8254 - 69ms/epoch - 4ms/step\n",
            "Epoch 8/10\n",
            "18/18 - 0s - loss: 0.0204 - accuracy: 0.9277 - val_loss: 0.0186 - val_accuracy: 0.8254 - 63ms/epoch - 4ms/step\n",
            "Epoch 9/10\n",
            "18/18 - 0s - loss: 0.0185 - accuracy: 0.9347 - val_loss: 0.0155 - val_accuracy: 0.8889 - 81ms/epoch - 4ms/step\n",
            "Epoch 10/10\n",
            "18/18 - 0s - loss: 0.0170 - accuracy: 0.9524 - val_loss: 0.0143 - val_accuracy: 0.9048 - 78ms/epoch - 4ms/step\n"
          ]
        },
        {
          "output_type": "execute_result",
          "data": {
            "text/plain": [
              "<keras.src.callbacks.History at 0x794d74703220>"
            ]
          },
          "metadata": {},
          "execution_count": 21
        }
      ]
    },
    {
      "cell_type": "code",
      "source": [
        "model.fit(X_train_resampled, y_train_resampled, epochs=10, batch_size=32, validation_split=0.1, verbose=2)"
      ],
      "metadata": {
        "colab": {
          "base_uri": "https://localhost:8080/"
        },
        "id": "IeBGNFHU7I-j",
        "outputId": "3ebbcc21-b7e0-42e7-ffae-afff9448ca75"
      },
      "execution_count": 22,
      "outputs": [
        {
          "output_type": "stream",
          "name": "stdout",
          "text": [
            "Epoch 1/10\n",
            "18/18 - 0s - loss: 0.0157 - accuracy: 0.9506 - val_loss: 0.0143 - val_accuracy: 0.9048 - 121ms/epoch - 7ms/step\n",
            "Epoch 2/10\n",
            "18/18 - 0s - loss: 0.0146 - accuracy: 0.9559 - val_loss: 0.0126 - val_accuracy: 0.9365 - 61ms/epoch - 3ms/step\n",
            "Epoch 3/10\n",
            "18/18 - 0s - loss: 0.0136 - accuracy: 0.9577 - val_loss: 0.0124 - val_accuracy: 0.9206 - 62ms/epoch - 3ms/step\n",
            "Epoch 4/10\n",
            "18/18 - 0s - loss: 0.0127 - accuracy: 0.9700 - val_loss: 0.0109 - val_accuracy: 0.9524 - 70ms/epoch - 4ms/step\n",
            "Epoch 5/10\n",
            "18/18 - 0s - loss: 0.0119 - accuracy: 0.9700 - val_loss: 0.0107 - val_accuracy: 0.9524 - 76ms/epoch - 4ms/step\n",
            "Epoch 6/10\n",
            "18/18 - 0s - loss: 0.0113 - accuracy: 0.9647 - val_loss: 0.0099 - val_accuracy: 0.9524 - 77ms/epoch - 4ms/step\n",
            "Epoch 7/10\n",
            "18/18 - 0s - loss: 0.0107 - accuracy: 0.9806 - val_loss: 0.0094 - val_accuracy: 0.9683 - 61ms/epoch - 3ms/step\n",
            "Epoch 8/10\n",
            "18/18 - 0s - loss: 0.0100 - accuracy: 0.9630 - val_loss: 0.0095 - val_accuracy: 0.9524 - 76ms/epoch - 4ms/step\n",
            "Epoch 9/10\n",
            "18/18 - 0s - loss: 0.0095 - accuracy: 0.9824 - val_loss: 0.0080 - val_accuracy: 0.9841 - 85ms/epoch - 5ms/step\n",
            "Epoch 10/10\n",
            "18/18 - 0s - loss: 0.0089 - accuracy: 0.9806 - val_loss: 0.0092 - val_accuracy: 0.9524 - 57ms/epoch - 3ms/step\n"
          ]
        },
        {
          "output_type": "execute_result",
          "data": {
            "text/plain": [
              "<keras.src.callbacks.History at 0x794d7479de40>"
            ]
          },
          "metadata": {},
          "execution_count": 22
        }
      ]
    },
    {
      "cell_type": "code",
      "source": [
        "y_pred = model.predict(X_test)\n",
        "y_pred_binary = (y_pred > 0.5).astype(int)"
      ],
      "metadata": {
        "colab": {
          "base_uri": "https://localhost:8080/"
        },
        "id": "GyY5_kM57I75",
        "outputId": "507858e7-f507-43ea-d0f9-415fe4304aba"
      },
      "execution_count": 23,
      "outputs": [
        {
          "output_type": "stream",
          "name": "stdout",
          "text": [
            "5/5 [==============================] - 0s 3ms/step\n"
          ]
        }
      ]
    },
    {
      "cell_type": "code",
      "source": [
        "accuracy = accuracy_score(y_test, y_pred_binary)\n",
        "print(\"Accuracy:\", accuracy)\n",
        "from sklearn.metrics import accuracy_score, precision_score, recall_score, f1_score\n",
        "\n",
        "accuracy = accuracy_score(y_test, y_pred_binary)\n",
        "precision = precision_score(y_test, y_pred_binary)\n",
        "recall = recall_score(y_test, y_pred_binary)\n",
        "f1 = f1_score(y_test, y_pred_binary)\n",
        "\n",
        "print(\"Accuracy:\", accuracy)\n",
        "print(\"Precision:\", precision)\n",
        "print(\"Recall:\", recall)\n",
        "print(\"F1 Score:\", f1)"
      ],
      "metadata": {
        "colab": {
          "base_uri": "https://localhost:8080/"
        },
        "id": "frN64ayO7I5D",
        "outputId": "94215893-3187-4398-b92d-2ae490f152cd"
      },
      "execution_count": 24,
      "outputs": [
        {
          "output_type": "stream",
          "name": "stdout",
          "text": [
            "Accuracy: 0.96\n",
            "Accuracy: 0.96\n",
            "Precision: 0.75\n",
            "Recall: 0.9375\n",
            "F1 Score: 0.8333333333333334\n"
          ]
        }
      ]
    },
    {
      "cell_type": "code",
      "source": [
        "from sklearn.metrics import mean_squared_error, r2_score\n",
        "import numpy as np\n",
        "from sklearn.model_selection import train_test_split\n",
        "from imblearn.over_sampling import RandomOverSampler\n",
        "from keras.models import Sequential\n",
        "from keras.layers import Dense\n",
        "\n",
        "# Assuming you have your data (X) and labels (y) for a regression task\n",
        "# X: Features, y: Regression target\n",
        "\n",
        "# Split the data into train and test sets\n",
        "X_train, X_test, y_train, y_test = train_test_split(X, y, test_size=0.2, random_state=42)\n",
        "\n",
        "# Resampling the training data using RandomOverSampler from imblearn\n",
        "oversample = RandomOverSampler(random_state=42)\n",
        "X_resampled, y_resampled = oversample.fit_resample(X_train, y_train)\n",
        "\n",
        "# Example of a simple neural network model (Keras) for regression\n",
        "model = Sequential()\n",
        "model.add(Dense(64, input_shape=(X.shape[1],), activation='relu'))\n",
        "model.add(Dense(32, activation='relu'))\n",
        "model.add(Dense(1, activation='linear'))  # Output layer with linear activation for regression\n",
        "\n",
        "model.compile(optimizer='adam', loss='mean_squared_error')  # Using MSE loss for regression\n",
        "\n",
        "# Train the model on the resampled data\n",
        "model.fit(X_resampled, y_resampled, epochs=10, batch_size=32, validation_data=(X_test, y_test))\n",
        "\n",
        "# Predict on the test set\n",
        "y_pred = model.predict(X_test)\n",
        "\n",
        "# Calculate regression metrics\n",
        "mse = mean_squared_error(y_test, y_pred)\n",
        "rmse = np.sqrt(mse)\n",
        "r_squared = r2_score(y_test, y_pred)\n",
        "\n",
        "# Number of samples and number of features (for Adjusted R-squared calculation)\n",
        "n = len(y_test)\n",
        "p = X.shape[1]  # Number of features in X\n",
        "\n",
        "adjusted_r_squared = 1 - (1 - r_squared) * (n - 1) / (n - p - 1)\n",
        "\n",
        "print(\"Mean Squared Error (MSE):\", mse)\n",
        "print(\"Root Mean Squared Error (RMSE):\", rmse)\n",
        "print(\"R-squared (R2):\", r_squared)\n",
        "print(\"Adjusted R-squared:\", adjusted_r_squared)\n"
      ],
      "metadata": {
        "colab": {
          "base_uri": "https://localhost:8080/"
        },
        "id": "wqy9aYQk7I2b",
        "outputId": "9be536d1-9e1d-4085-ec2b-dd3aa468e1ce"
      },
      "execution_count": 25,
      "outputs": [
        {
          "output_type": "stream",
          "name": "stdout",
          "text": [
            "Epoch 1/10\n",
            "23/23 [==============================] - 3s 33ms/step - loss: 415164736.0000 - val_loss: 102133320.0000\n",
            "Epoch 2/10\n",
            "23/23 [==============================] - 0s 13ms/step - loss: 16792278.0000 - val_loss: 9715357.0000\n",
            "Epoch 3/10\n",
            "23/23 [==============================] - 0s 13ms/step - loss: 820028.3750 - val_loss: 833978.6250\n",
            "Epoch 4/10\n",
            "23/23 [==============================] - 0s 14ms/step - loss: 259354.9219 - val_loss: 204028.5469\n",
            "Epoch 5/10\n",
            "23/23 [==============================] - 0s 7ms/step - loss: 94413.9062 - val_loss: 84824.6562\n",
            "Epoch 6/10\n",
            "23/23 [==============================] - 0s 8ms/step - loss: 32140.5547 - val_loss: 186704.6562\n",
            "Epoch 7/10\n",
            "23/23 [==============================] - 0s 15ms/step - loss: 26263.4180 - val_loss: 57843.2500\n",
            "Epoch 8/10\n",
            "23/23 [==============================] - 0s 7ms/step - loss: 25466.9277 - val_loss: 76777.5234\n",
            "Epoch 9/10\n",
            "23/23 [==============================] - 0s 6ms/step - loss: 25418.7559 - val_loss: 17026.1543\n",
            "Epoch 10/10\n",
            "23/23 [==============================] - 0s 13ms/step - loss: 39144.4727 - val_loss: 9940.4209\n",
            "4/4 [==============================] - 0s 4ms/step\n",
            "Mean Squared Error (MSE): 9940.44113674208\n",
            "Root Mean Squared Error (RMSE): 99.70176095105883\n",
            "R-squared (R2): -94131.96531005758\n",
            "Adjusted R-squared: -121027.09825578833\n"
          ]
        }
      ]
    }
  ]
}
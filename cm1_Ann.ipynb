{
  "nbformat": 4,
  "nbformat_minor": 0,
  "metadata": {
    "colab": {
      "provenance": []
    },
    "kernelspec": {
      "name": "python3",
      "display_name": "Python 3"
    },
    "language_info": {
      "name": "python"
    }
  },
  "cells": [
    {
      "cell_type": "code",
      "execution_count": 4,
      "metadata": {
        "colab": {
          "base_uri": "https://localhost:8080/"
        },
        "id": "vF0q842HyL3Y",
        "outputId": "78529dee-a747-4145-ea20-6a9d9f00802d"
      },
      "outputs": [
        {
          "output_type": "stream",
          "name": "stdout",
          "text": [
            "Drive already mounted at /content/drive; to attempt to forcibly remount, call drive.mount(\"/content/drive\", force_remount=True).\n",
            "Epoch 1/10\n",
            "5/5 [==============================] - 2s 127ms/step - loss: nan - accuracy: 0.9182 - val_loss: nan - val_accuracy: 0.8625\n",
            "Epoch 2/10\n",
            "5/5 [==============================] - 0s 11ms/step - loss: nan - accuracy: 0.9182 - val_loss: nan - val_accuracy: 0.8625\n",
            "Epoch 3/10\n",
            "5/5 [==============================] - 0s 14ms/step - loss: nan - accuracy: 0.9182 - val_loss: nan - val_accuracy: 0.8625\n",
            "Epoch 4/10\n",
            "5/5 [==============================] - 0s 14ms/step - loss: nan - accuracy: 0.9182 - val_loss: nan - val_accuracy: 0.8625\n",
            "Epoch 5/10\n",
            "5/5 [==============================] - 0s 11ms/step - loss: nan - accuracy: 0.9182 - val_loss: nan - val_accuracy: 0.8625\n",
            "Epoch 6/10\n",
            "5/5 [==============================] - 0s 15ms/step - loss: nan - accuracy: 0.9182 - val_loss: nan - val_accuracy: 0.8625\n",
            "Epoch 7/10\n",
            "5/5 [==============================] - 0s 14ms/step - loss: nan - accuracy: 0.9182 - val_loss: nan - val_accuracy: 0.8625\n",
            "Epoch 8/10\n",
            "5/5 [==============================] - 0s 9ms/step - loss: nan - accuracy: 0.9182 - val_loss: nan - val_accuracy: 0.8625\n",
            "Epoch 9/10\n",
            "5/5 [==============================] - 0s 11ms/step - loss: nan - accuracy: 0.9182 - val_loss: nan - val_accuracy: 0.8625\n",
            "Epoch 10/10\n",
            "5/5 [==============================] - 0s 11ms/step - loss: nan - accuracy: 0.9182 - val_loss: nan - val_accuracy: 0.8625\n",
            "4/4 [==============================] - 0s 3ms/step\n",
            "              precision    recall  f1-score   support\n",
            "\n",
            "           0       0.88      1.00      0.94        88\n",
            "           1       0.00      0.00      0.00        12\n",
            "\n",
            "    accuracy                           0.88       100\n",
            "   macro avg       0.44      0.50      0.47       100\n",
            "weighted avg       0.77      0.88      0.82       100\n",
            "\n"
          ]
        },
        {
          "output_type": "stream",
          "name": "stderr",
          "text": [
            "/usr/local/lib/python3.10/dist-packages/sklearn/metrics/_classification.py:1344: UndefinedMetricWarning: Precision and F-score are ill-defined and being set to 0.0 in labels with no predicted samples. Use `zero_division` parameter to control this behavior.\n",
            "  _warn_prf(average, modifier, msg_start, len(result))\n",
            "/usr/local/lib/python3.10/dist-packages/sklearn/metrics/_classification.py:1344: UndefinedMetricWarning: Precision and F-score are ill-defined and being set to 0.0 in labels with no predicted samples. Use `zero_division` parameter to control this behavior.\n",
            "  _warn_prf(average, modifier, msg_start, len(result))\n",
            "/usr/local/lib/python3.10/dist-packages/sklearn/metrics/_classification.py:1344: UndefinedMetricWarning: Precision and F-score are ill-defined and being set to 0.0 in labels with no predicted samples. Use `zero_division` parameter to control this behavior.\n",
            "  _warn_prf(average, modifier, msg_start, len(result))\n"
          ]
        }
      ],
      "source": [
        "import numpy as np\n",
        "import pandas as pd\n",
        "import tensorflow as tf\n",
        "from tensorflow import keras\n",
        "from sklearn.model_selection import train_test_split\n",
        "from sklearn.metrics import classification_report\n",
        "import numpy as np\n",
        "import pandas as pd\n",
        "import matplotlib.pyplot as plt\n",
        "import seaborn as sns\n",
        "\n",
        "\n",
        "from google.colab import drive\n",
        "drive.mount('/content/drive')\n",
        "df = pd.read_csv(\"/content/csv_result-cm1.csv\")\n",
        "\n",
        "# Load your software defect dataset (X and y)\n",
        "# Replace 'X' and 'y' with your actual dataset\n",
        "\n",
        "X = df.iloc[:, :-1]\n",
        "y = df.iloc[:, -1]\n",
        "\n",
        "# Split the dataset into train and test sets\n",
        "X_train, X_test, y_train, y_test = train_test_split(X, y, test_size=0.2, random_state=42)\n",
        "\n",
        "# Define the ANN model\n",
        "model = keras.Sequential([\n",
        "    keras.layers.Dense(64, activation='relu', input_shape=(X_train.shape[1],)),\n",
        "    keras.layers.Dense(32, activation='relu'),\n",
        "    keras.layers.Dense(1, activation='sigmoid')\n",
        "])\n",
        "\n",
        "# Compile the model with Focal Loss as the loss function\n",
        "def focal_loss(gamma=2.0, alpha=0.25):\n",
        "    def focal_loss_fixed(y_true, y_pred):\n",
        "        pt_1 = tf.where(tf.equal(y_true, 1), y_pred, tf.ones_like(y_pred))\n",
        "        pt_0 = tf.where(tf.equal(y_true, 0), y_pred, tf.zeros_like(y_pred))\n",
        "        return -tf.keras.backend.sum(alpha * tf.keras.backend.pow(1. - pt_1, gamma) * tf.keras.backend.log(pt_1))-tf.keras.backend.sum((1 - alpha) * tf.keras.backend.pow(pt_0, gamma) * tf.keras.backend.log(1. - pt_0))\n",
        "\n",
        "    return focal_loss_fixed\n",
        "\n",
        "model.compile(optimizer='adam', loss=focal_loss(), metrics=['accuracy'])\n",
        "\n",
        "# Train the model\n",
        "model.fit(X_train, y_train, epochs=10, batch_size=64, validation_split=0.2)\n",
        "\n",
        "# Evaluate the model on the test set\n",
        "y_pred = model.predict(X_test)\n",
        "y_pred_binary = (y_pred > 0.5).astype(int)\n",
        "\n",
        "# Print classification report\n",
        "print(classification_report(y_test, y_pred_binary))"
      ]
    }
  ]
}
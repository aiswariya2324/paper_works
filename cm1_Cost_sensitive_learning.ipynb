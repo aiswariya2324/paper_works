{
  "nbformat": 4,
  "nbformat_minor": 0,
  "metadata": {
    "colab": {
      "provenance": []
    },
    "kernelspec": {
      "name": "python3",
      "display_name": "Python 3"
    },
    "language_info": {
      "name": "python"
    }
  },
  "cells": [
    {
      "cell_type": "code",
      "execution_count": 2,
      "metadata": {
        "colab": {
          "base_uri": "https://localhost:8080/"
        },
        "id": "n_FT6Bk4vXc1",
        "outputId": "dc3c9803-822b-476a-deae-b46a7ca742ca"
      },
      "outputs": [
        {
          "output_type": "stream",
          "name": "stdout",
          "text": [
            "Mounted at /content/drive\n",
            "Accuracy Score: 0.98\n",
            "Precision Score: 0.92\n"
          ]
        }
      ],
      "source": [
        "import pandas as pd\n",
        "import numpy as np\n",
        "from sklearn.model_selection import train_test_split\n",
        "from sklearn.ensemble import RandomForestClassifier\n",
        "from sklearn.metrics import accuracy_score\n",
        "from sklearn.metrics import precision_score\n",
        "\n",
        "from google.colab import drive\n",
        "drive.mount('/content/drive')\n",
        "df = pd.read_csv(\"/content/csv_result-cm1.csv\")\n",
        "X = df.iloc[:, :-1]\n",
        "y = df.iloc[:, -1]\n",
        "\n",
        "# Split the data into training and testing sets\n",
        "X_train, X_test, y_train, y_test = train_test_split(X, y, test_size=0.2, random_state=42)\n",
        "\n",
        "# Define class weights (you can tune these values)\n",
        "# For example, assign higher weights to the minority class\n",
        "class_weights = {\n",
        "    0: 1,  # Majority class\n",
        "    1: 10  # Minority class (adjust this weight based on your problem)\n",
        "}\n",
        "\n",
        "# Initialize the Random Forest classifier with class weights\n",
        "clf = RandomForestClassifier(class_weight=class_weights, random_state=42)\n",
        "\n",
        "# Train the model\n",
        "clf.fit(X_train, y_train)\n",
        "\n",
        "# Make predictions on the test set\n",
        "y_pred = clf.predict(X_test)\n",
        "\n",
        "# Calculate the accuracy score\n",
        "accuracy = accuracy_score(y_test, y_pred)\n",
        "precision = precision_score(y_test, y_pred)\n",
        "print(f'Accuracy Score: {accuracy:.2f}')\n",
        "print(f'Precision Score: {precision:.2f}')"
      ]
    },
    {
      "cell_type": "code",
      "source": [
        "\n",
        "from tensorflow.keras.models import Sequential\n",
        "from tensorflow.keras.layers import Dense"
      ],
      "metadata": {
        "id": "knxHap59w9XK"
      },
      "execution_count": 5,
      "outputs": []
    },
    {
      "cell_type": "code",
      "source": [
        "import numpy as np\n",
        "from sklearn.datasets import make_classification\n",
        "from sklearn.model_selection import train_test_split\n",
        "from tensorflow.keras.models import Sequential\n",
        "from tensorflow.keras.layers import Dense\n",
        "\n",
        "# Generate some sample data\n",
        "X, y = make_classification(n_samples=1000, n_features=20, n_classes=2, random_state=42)\n",
        "\n",
        "# If you are using resampling, include it here; otherwise, just split the data\n",
        "# Example: Using train_test_split\n",
        "X_train, X_test, y_train, y_test = train_test_split(X, y, test_size=0.2, random_state=42)\n",
        "\n",
        "# Assuming X_train is the equivalent of X_resampled\n",
        "X_resampled = X_train\n",
        "\n",
        "# Define the Sequential model\n",
        "model = Sequential()\n",
        "model.add(Dense(64, input_dim=X_resampled.shape[1], activation='relu'))\n",
        "model.add(Dense(32, activation='relu'))\n",
        "model.add(Dense(1, activation='sigmoid'))\n",
        "\n",
        "# Compile the model (optional step before training)\n",
        "model.compile(optimizer='adam', loss='binary_crossentropy', metrics=['accuracy'])\n",
        "\n",
        "# Train the model (optional example of how you might train it)\n",
        "model.fit(X_resampled, y_train, epochs=10, batch_size=32)\n"
      ],
      "metadata": {
        "colab": {
          "base_uri": "https://localhost:8080/"
        },
        "id": "rgBBhlVTxMtc",
        "outputId": "08b14933-260d-4468-890c-2adc48820efe"
      },
      "execution_count": 8,
      "outputs": [
        {
          "output_type": "stream",
          "name": "stdout",
          "text": [
            "Epoch 1/10\n",
            "25/25 [==============================] - 1s 3ms/step - loss: 0.5749 - accuracy: 0.7125\n",
            "Epoch 2/10\n",
            "25/25 [==============================] - 0s 3ms/step - loss: 0.4435 - accuracy: 0.8213\n",
            "Epoch 3/10\n",
            "25/25 [==============================] - 0s 3ms/step - loss: 0.3687 - accuracy: 0.8675\n",
            "Epoch 4/10\n",
            "25/25 [==============================] - 0s 3ms/step - loss: 0.3286 - accuracy: 0.8788\n",
            "Epoch 5/10\n",
            "25/25 [==============================] - 0s 3ms/step - loss: 0.3062 - accuracy: 0.8875\n",
            "Epoch 6/10\n",
            "25/25 [==============================] - 0s 3ms/step - loss: 0.2921 - accuracy: 0.8913\n",
            "Epoch 7/10\n",
            "25/25 [==============================] - 0s 3ms/step - loss: 0.2789 - accuracy: 0.8913\n",
            "Epoch 8/10\n",
            "25/25 [==============================] - 0s 3ms/step - loss: 0.2654 - accuracy: 0.9000\n",
            "Epoch 9/10\n",
            "25/25 [==============================] - 0s 3ms/step - loss: 0.2564 - accuracy: 0.9025\n",
            "Epoch 10/10\n",
            "25/25 [==============================] - 0s 2ms/step - loss: 0.2477 - accuracy: 0.9075\n"
          ]
        },
        {
          "output_type": "execute_result",
          "data": {
            "text/plain": [
              "<keras.src.callbacks.History at 0x7c4df5e66050>"
            ]
          },
          "metadata": {},
          "execution_count": 8
        }
      ]
    },
    {
      "cell_type": "code",
      "source": [
        "model = Sequential()\n",
        "model.add(Dense(64, input_dim=X_resampled.shape[1], activation='relu'))\n",
        "model.add(Dense(32, activation='relu'))\n",
        "model.add(Dense(1, activation='sigmoid'))\n"
      ],
      "metadata": {
        "id": "OpWO8_vNwsXG"
      },
      "execution_count": 9,
      "outputs": []
    },
    {
      "cell_type": "code",
      "source": [
        "y_pred = model.predict(X_test)"
      ],
      "metadata": {
        "colab": {
          "base_uri": "https://localhost:8080/"
        },
        "id": "OJJ32N9EwhTG",
        "outputId": "4b6c0457-8c3d-4dc9-e529-ee81f9e3c5f7"
      },
      "execution_count": 10,
      "outputs": [
        {
          "output_type": "stream",
          "name": "stdout",
          "text": [
            "7/7 [==============================] - 0s 3ms/step\n"
          ]
        }
      ]
    },
    {
      "cell_type": "code",
      "source": [
        "threshold = 0.5\n",
        "y_pred_binary = (y_pred > threshold).astype(int)\n",
        "from sklearn.metrics import confusion_matrix\n",
        "from sklearn.metrics import confusion_matrix, classification_report\n",
        "print(\"Confusion Matrix:\")\n",
        "print(confusion_matrix(y_test, y_pred_binary))\n",
        "\n",
        "print(\"\\nClassification Report:\")\n",
        "print(classification_report(y_test, y_pred_binary))"
      ],
      "metadata": {
        "colab": {
          "base_uri": "https://localhost:8080/"
        },
        "id": "RidP6PRnwj3s",
        "outputId": "47718dd8-faa9-4c3d-f1e5-148ef8e6b652"
      },
      "execution_count": 14,
      "outputs": [
        {
          "output_type": "stream",
          "name": "stdout",
          "text": [
            "Confusion Matrix:\n",
            "[[92  1]\n",
            " [97 10]]\n",
            "\n",
            "Classification Report:\n",
            "              precision    recall  f1-score   support\n",
            "\n",
            "           0       0.49      0.99      0.65        93\n",
            "           1       0.91      0.09      0.17       107\n",
            "\n",
            "    accuracy                           0.51       200\n",
            "   macro avg       0.70      0.54      0.41       200\n",
            "weighted avg       0.71      0.51      0.39       200\n",
            "\n"
          ]
        }
      ]
    },
    {
      "cell_type": "code",
      "source": [
        "import pandas as pd\n",
        "from sklearn.model_selection import train_test_split\n",
        "from sklearn.ensemble import RandomForestClassifier\n",
        "from sklearn.metrics import accuracy_score\n",
        "from imblearn.over_sampling import SMOTE\n",
        "from sklearn.utils import class_weight"
      ],
      "metadata": {
        "id": "w23zg7AsxpjR"
      },
      "execution_count": 15,
      "outputs": []
    },
    {
      "cell_type": "code",
      "source": [
        "X = df.iloc[:, :-1]\n",
        "y = df.iloc[:, -1]\n",
        "\n",
        "# Split the data into training and testing sets\n",
        "X_train, X_test, y_train, y_test = train_test_split(X, y, test_size=0.2, random_state=42)\n",
        "\n",
        "# Calculate class weights to account for class imbalance\n",
        "class_weights = class_weight.compute_class_weight('balanced', classes=[0, 1], y=y_train)\n",
        "\n",
        "# Initialize a Random Forest classifier with class weights\n",
        "clf = RandomForestClassifier(class_weight=dict(enumerate(class_weights)), random_state=42)\n",
        "\n",
        "# Apply SMOTE to the training data for oversampling\n",
        "smote = SMOTE(random_state=42)\n",
        "X_train_resampled, y_train_resampled = smote.fit_resample(X_train, y_train)\n",
        "\n",
        "# Train the model with oversampled data\n",
        "clf.fit(X_train_resampled, y_train_resampled)\n",
        "\n",
        "# Make predictions on the test set\n",
        "y_pred = clf.predict(X_test)\n",
        "\n",
        "# Calculate the accuracy score\n",
        "accuracy = accuracy_score(y_test, y_pred)\n",
        "print(f'Accuracy Score: {accuracy:.2f}')"
      ],
      "metadata": {
        "colab": {
          "base_uri": "https://localhost:8080/"
        },
        "id": "NxDuY3JDxs9I",
        "outputId": "a8ba2a29-828d-4e9b-eb9f-5eb14ccc6264"
      },
      "execution_count": 16,
      "outputs": [
        {
          "output_type": "stream",
          "name": "stdout",
          "text": [
            "Accuracy Score: 0.98\n"
          ]
        }
      ]
    }
  ]
}
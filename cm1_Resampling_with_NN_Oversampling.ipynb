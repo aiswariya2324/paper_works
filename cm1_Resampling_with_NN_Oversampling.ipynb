{
  "nbformat": 4,
  "nbformat_minor": 0,
  "metadata": {
    "colab": {
      "provenance": []
    },
    "kernelspec": {
      "name": "python3",
      "display_name": "Python 3"
    },
    "language_info": {
      "name": "python"
    }
  },
  "cells": [
    {
      "cell_type": "code",
      "execution_count": 1,
      "metadata": {
        "colab": {
          "base_uri": "https://localhost:8080/"
        },
        "id": "hEa75PjvADmi",
        "outputId": "a76452df-1d12-4e42-e104-e77955117f38"
      },
      "outputs": [
        {
          "output_type": "stream",
          "name": "stdout",
          "text": [
            "Mounted at /content/drive\n"
          ]
        }
      ],
      "source": [
        "from google.colab import drive\n",
        "drive.mount('/content/drive')"
      ]
    },
    {
      "cell_type": "code",
      "source": [
        "import numpy as np\n",
        "import pandas as pd\n",
        "from sklearn.model_selection import train_test_split\n",
        "from sklearn.preprocessing import StandardScaler\n",
        "from keras.models import Sequential\n",
        "from keras.layers import Dense\n",
        "from imblearn.over_sampling import RandomOverSampler\n",
        "from sklearn.metrics import accuracy_score, precision_score, recall_score, f1_score"
      ],
      "metadata": {
        "id": "OjslglhWAQ2w"
      },
      "execution_count": 3,
      "outputs": []
    },
    {
      "cell_type": "code",
      "source": [
        "df=pd.read_csv('/content/csv_result-cm1.csv')"
      ],
      "metadata": {
        "id": "K_-nLFntAQ6U"
      },
      "execution_count": 4,
      "outputs": []
    },
    {
      "cell_type": "code",
      "source": [
        "X = df.iloc[:, :-1]\n",
        "y = df.iloc[:, -1]"
      ],
      "metadata": {
        "id": "acxL2_3oBl8n"
      },
      "execution_count": 6,
      "outputs": []
    },
    {
      "cell_type": "code",
      "source": [
        "X_train, X_test, y_train, y_test = train_test_split(X, y, test_size=0.3, random_state=42)"
      ],
      "metadata": {
        "id": "frwEGim0BpXW"
      },
      "execution_count": 7,
      "outputs": []
    },
    {
      "cell_type": "code",
      "source": [
        "scaler = StandardScaler()\n",
        "X_train = scaler.fit_transform(X_train)\n",
        "X_test = scaler.transform(X_test)"
      ],
      "metadata": {
        "id": "bxlXjwv4AQzo"
      },
      "execution_count": 8,
      "outputs": []
    },
    {
      "cell_type": "code",
      "source": [
        "ros = RandomOverSampler(sampling_strategy=0.5, random_state=42)\n",
        "X_resampled, y_resampled = ros.fit_resample(X_train, y_train)"
      ],
      "metadata": {
        "id": "JSdexFf_AQwg"
      },
      "execution_count": 9,
      "outputs": []
    },
    {
      "cell_type": "code",
      "source": [
        "model = Sequential()\n",
        "model.add(Dense(64, input_dim=X_resampled.shape[1], activation='relu'))\n",
        "model.add(Dense(32, activation='relu'))\n",
        "model.add(Dense(1, activation='sigmoid'))\n"
      ],
      "metadata": {
        "id": "vbmo1EAuAQty"
      },
      "execution_count": 10,
      "outputs": []
    },
    {
      "cell_type": "code",
      "source": [
        "model.compile(loss='binary_crossentropy', optimizer='adam', metrics=['accuracy'])"
      ],
      "metadata": {
        "id": "xqkxdk6AAQrS"
      },
      "execution_count": 11,
      "outputs": []
    },
    {
      "cell_type": "code",
      "source": [
        "model.fit(X_resampled, y_resampled, epochs=10, batch_size=32, verbose=2)"
      ],
      "metadata": {
        "colab": {
          "base_uri": "https://localhost:8080/"
        },
        "id": "bnR4gU6VAQod",
        "outputId": "da4a4dc5-dae1-4080-b3d6-dac6bddee306"
      },
      "execution_count": 12,
      "outputs": [
        {
          "output_type": "stream",
          "name": "stdout",
          "text": [
            "Epoch 1/10\n",
            "15/15 - 2s - loss: 0.6639 - accuracy: 0.6441 - 2s/epoch - 109ms/step\n",
            "Epoch 2/10\n",
            "15/15 - 0s - loss: 0.5032 - accuracy: 0.7521 - 30ms/epoch - 2ms/step\n",
            "Epoch 3/10\n",
            "15/15 - 0s - loss: 0.4132 - accuracy: 0.8432 - 29ms/epoch - 2ms/step\n",
            "Epoch 4/10\n",
            "15/15 - 0s - loss: 0.3418 - accuracy: 0.8835 - 28ms/epoch - 2ms/step\n",
            "Epoch 5/10\n",
            "15/15 - 0s - loss: 0.2851 - accuracy: 0.9110 - 26ms/epoch - 2ms/step\n",
            "Epoch 6/10\n",
            "15/15 - 0s - loss: 0.2378 - accuracy: 0.9258 - 27ms/epoch - 2ms/step\n",
            "Epoch 7/10\n",
            "15/15 - 0s - loss: 0.2024 - accuracy: 0.9280 - 29ms/epoch - 2ms/step\n",
            "Epoch 8/10\n",
            "15/15 - 0s - loss: 0.1732 - accuracy: 0.9407 - 26ms/epoch - 2ms/step\n",
            "Epoch 9/10\n",
            "15/15 - 0s - loss: 0.1515 - accuracy: 0.9449 - 30ms/epoch - 2ms/step\n",
            "Epoch 10/10\n",
            "15/15 - 0s - loss: 0.1333 - accuracy: 0.9703 - 25ms/epoch - 2ms/step\n"
          ]
        },
        {
          "output_type": "execute_result",
          "data": {
            "text/plain": [
              "<keras.src.callbacks.History at 0x7c193cbfbd60>"
            ]
          },
          "metadata": {},
          "execution_count": 12
        }
      ]
    },
    {
      "cell_type": "code",
      "source": [
        "y_pred = model.predict(X_test)\n",
        "y_pred = (y_pred > 0.5).astype(int)"
      ],
      "metadata": {
        "colab": {
          "base_uri": "https://localhost:8080/"
        },
        "id": "tTk3WustAQlp",
        "outputId": "5f9eb590-5620-42c6-9c93-799da83afa1b"
      },
      "execution_count": 13,
      "outputs": [
        {
          "output_type": "stream",
          "name": "stdout",
          "text": [
            "5/5 [==============================] - 0s 4ms/step\n"
          ]
        }
      ]
    },
    {
      "cell_type": "code",
      "source": [
        "threshold = 0.5\n",
        "y_pred_binary = (y_pred > threshold).astype(int)\n",
        "import numpy as np\n",
        "from sklearn.metrics import confusion_matrix\n",
        "from sklearn.metrics import classification_report\n",
        "print(\"Confusion Matrix:\")\n",
        "print(confusion_matrix(y_test, y_pred))\n",
        "\n",
        "print(\"\\nClassification Report:\")\n",
        "print(classification_report(y_test, y_pred))"
      ],
      "metadata": {
        "colab": {
          "base_uri": "https://localhost:8080/"
        },
        "id": "tCpDR2VNAQiu",
        "outputId": "26af1171-b0de-4eea-b048-f75760f99fd8"
      },
      "execution_count": 18,
      "outputs": [
        {
          "output_type": "stream",
          "name": "stdout",
          "text": [
            "Confusion Matrix:\n",
            "[[127   7]\n",
            " [  0  16]]\n",
            "\n",
            "Classification Report:\n",
            "              precision    recall  f1-score   support\n",
            "\n",
            "           0       1.00      0.95      0.97       134\n",
            "           1       0.70      1.00      0.82        16\n",
            "\n",
            "    accuracy                           0.95       150\n",
            "   macro avg       0.85      0.97      0.90       150\n",
            "weighted avg       0.97      0.95      0.96       150\n",
            "\n"
          ]
        }
      ]
    },
    {
      "cell_type": "code",
      "source": [
        "from sklearn.metrics import mean_squared_error, r2_score\n",
        "import numpy as np\n",
        "from sklearn.model_selection import train_test_split\n",
        "from imblearn.over_sampling import RandomOverSampler\n",
        "from keras.models import Sequential\n",
        "from keras.layers import Dense\n",
        "\n",
        "# Assuming you have your data (X) and labels (y) for a regression task\n",
        "# X: Features, y: Regression target\n",
        "\n",
        "# Split the data into train and test sets\n",
        "X_train, X_test, y_train, y_test = train_test_split(X, y, test_size=0.2, random_state=42)\n",
        "\n",
        "# Resampling the training data using RandomOverSampler from imblearn\n",
        "oversample = RandomOverSampler(random_state=42)\n",
        "X_resampled, y_resampled = oversample.fit_resample(X_train, y_train)\n",
        "\n",
        "# Example of a simple neural network model (Keras) for regression\n",
        "model = Sequential()\n",
        "model.add(Dense(64, input_shape=(X.shape[1],), activation='relu'))\n",
        "model.add(Dense(32, activation='relu'))\n",
        "model.add(Dense(1, activation='linear'))  # Output layer with linear activation for regression\n",
        "\n",
        "model.compile(optimizer='adam', loss='mean_squared_error')  # Using MSE loss for regression\n",
        "\n",
        "# Train the model on the resampled data\n",
        "model.fit(X_resampled, y_resampled, epochs=10, batch_size=32, validation_data=(X_test, y_test))\n",
        "\n",
        "# Predict on the test set\n",
        "y_pred = model.predict(X_test)\n",
        "\n",
        "# Calculate regression metrics\n",
        "mse = mean_squared_error(y_test, y_pred)\n",
        "rmse = np.sqrt(mse)\n",
        "r_squared = r2_score(y_test, y_pred)\n",
        "\n",
        "# Number of samples and number of features (for Adjusted R-squared calculation)\n",
        "n = len(y_test)\n",
        "p = X.shape[1]  # Number of features in X\n",
        "\n",
        "adjusted_r_squared = 1 - (1 - r_squared) * (n - 1) / (n - p - 1)\n",
        "\n",
        "print(\"Mean Squared Error (MSE):\", mse)\n",
        "print(\"Root Mean Squared Error (RMSE):\", rmse)\n",
        "print(\"R-squared (R2):\", r_squared)\n",
        "print(\"Adjusted R-squared:\", adjusted_r_squared)\n"
      ],
      "metadata": {
        "colab": {
          "base_uri": "https://localhost:8080/"
        },
        "id": "e8nNwkn6EEJ_",
        "outputId": "b2312b11-e334-494f-a700-324ebc3de21c"
      },
      "execution_count": 19,
      "outputs": [
        {
          "output_type": "stream",
          "name": "stdout",
          "text": [
            "Epoch 1/10\n",
            "23/23 [==============================] - 2s 35ms/step - loss: 62213628.0000 - val_loss: 20600072.0000\n",
            "Epoch 2/10\n",
            "23/23 [==============================] - 0s 11ms/step - loss: 7639065.0000 - val_loss: 2196530.0000\n",
            "Epoch 3/10\n",
            "23/23 [==============================] - 0s 13ms/step - loss: 505986.9688 - val_loss: 392797.2500\n",
            "Epoch 4/10\n",
            "23/23 [==============================] - 0s 6ms/step - loss: 44086.1641 - val_loss: 1616.4170\n",
            "Epoch 5/10\n",
            "23/23 [==============================] - 0s 5ms/step - loss: 2470.3682 - val_loss: 509.1293\n",
            "Epoch 6/10\n",
            "23/23 [==============================] - 0s 8ms/step - loss: 519.6909 - val_loss: 309.4412\n",
            "Epoch 7/10\n",
            "23/23 [==============================] - 0s 11ms/step - loss: 363.2360 - val_loss: 287.3733\n",
            "Epoch 8/10\n",
            "23/23 [==============================] - 0s 8ms/step - loss: 167.9361 - val_loss: 57.0242\n",
            "Epoch 9/10\n",
            "23/23 [==============================] - 0s 9ms/step - loss: 86.7609 - val_loss: 295.3111\n",
            "Epoch 10/10\n",
            "23/23 [==============================] - 0s 6ms/step - loss: 62.8705 - val_loss: 15.0125\n",
            "4/4 [==============================] - 0s 4ms/step\n",
            "Mean Squared Error (MSE): 14.998016142174912\n",
            "Root Mean Squared Error (RMSE): 3.872727222794669\n",
            "R-squared (R2): -141.02666801302001\n",
            "Adjusted R-squared: -181.60571601674002\n"
          ]
        }
      ]
    },
    {
      "cell_type": "code",
      "source": [],
      "metadata": {
        "id": "6J4AOEv-EEGf"
      },
      "execution_count": null,
      "outputs": []
    },
    {
      "cell_type": "code",
      "source": [],
      "metadata": {
        "id": "_VbqKbDeEEEZ"
      },
      "execution_count": null,
      "outputs": []
    },
    {
      "cell_type": "code",
      "source": [],
      "metadata": {
        "id": "25_1M0C1EEBr"
      },
      "execution_count": null,
      "outputs": []
    },
    {
      "cell_type": "code",
      "source": [],
      "metadata": {
        "id": "5JH7MAAMED-3"
      },
      "execution_count": null,
      "outputs": []
    },
    {
      "cell_type": "code",
      "source": [],
      "metadata": {
        "id": "SHSbE7isED8K"
      },
      "execution_count": null,
      "outputs": []
    },
    {
      "cell_type": "code",
      "source": [],
      "metadata": {
        "id": "5p9P1VZ4ED5I"
      },
      "execution_count": null,
      "outputs": []
    }
  ]
}